{
 "cells": [
  {
   "cell_type": "markdown",
   "metadata": {},
   "source": [
    "# Python Basic Snippets"
   ]
  },
  {
   "cell_type": "markdown",
   "metadata": {},
   "source": [
    "## if statement"
   ]
  },
  {
   "cell_type": "code",
   "execution_count": null,
   "metadata": {},
   "outputs": [],
   "source": [
    "age1 = int(input('enter your age'))\n",
    "if age1 >= 18:\n",
    "    print('you are an adult')\n",
    "else: \n",
    "    print('you kid, go away!')"
   ]
  },
  {
   "cell_type": "markdown",
   "metadata": {},
   "source": [
    "## elif statement"
   ]
  },
  {
   "cell_type": "code",
   "execution_count": null,
   "metadata": {},
   "outputs": [],
   "source": [
    "marks = int(input('enter your marks'))\n",
    "\n",
    "if marks >= 90:\n",
    "    print('your grade: A')\n",
    "elif marks >= 70:\n",
    "    print('your grade: B')\n",
    "elif marks >= 60:\n",
    "    print('your grade: C')\n",
    "else:\n",
    "   print('you are a Loser')"
   ]
  },
  {
   "cell_type": "code",
   "execution_count": null,
   "metadata": {},
   "outputs": [],
   "source": [
    "for a in 'Python':     # traversal of a string sequence\n",
    "   print('Current Letter :', a)"
   ]
  },
  {
   "cell_type": "markdown",
   "metadata": {},
   "source": [
    "## functions in list\n"
   ]
  },
  {
   "cell_type": "code",
   "execution_count": null,
   "metadata": {},
   "outputs": [],
   "source": [
    " fruits = ['apple','banana','ornage','grapes']\n",
    "print(fruits)\n",
    "fruits.append('mango') #append function\n",
    "print(fruits)\n",
    "fruits.insert(1,'cucumber')  #insert function\n",
    "print(fruits)\n",
    "print(fruits.index('banana')) #index fucntion"
   ]
  },
  {
   "cell_type": "markdown",
   "metadata": {},
   "source": [
    "## range function"
   ]
  },
  {
   "cell_type": "code",
   "execution_count": null,
   "metadata": {},
   "outputs": [],
   "source": [
    "num = list(range(10))\n",
    "print(num)\n",
    "num = list(range(1,10))\n",
    "print(num)\n",
    "num = list(range(1,10,3)) #here 1 is the initial value, 10 is the final value and 3 is the step \n",
    "print(num)"
   ]
  },
  {
   "cell_type": "markdown",
   "metadata": {},
   "source": [
    "## code reuse"
   ]
  },
  {
   "cell_type": "code",
   "execution_count": null,
   "metadata": {},
   "outputs": [],
   "source": [
    "# to define a function use def\n",
    "def f(): #syntax for defining function\n",
    "        print('hi')\n",
    "        print('hello')\n",
    "        print('bye')\n",
    "f()"
   ]
  },
  {
   "cell_type": "markdown",
   "metadata": {},
   "source": [
    "## for loop "
   ]
  },
  {
   "cell_type": "code",
   "execution_count": null,
   "metadata": {},
   "outputs": [],
   "source": [
    "#used to use the code a number of times\n",
    "#syntax of for loop\n",
    "for x in range(1,11):\n",
    "    print(x)"
   ]
  },
  {
   "cell_type": "markdown",
   "metadata": {},
   "source": [
    "### how does the iteration work\n",
    "#### first iteration\n",
    "the value stored of 1 is going to be stored in x "
   ]
  },
  {
   "cell_type": "code",
   "execution_count": null,
   "metadata": {},
   "outputs": [],
   "source": [
    "fruit =['apple','peach','banana']\n",
    "for x in fruit:\n",
    "    print('fruit is',x)"
   ]
  },
  {
   "cell_type": "code",
   "execution_count": null,
   "metadata": {},
   "outputs": [],
   "source": [
    "# to add numbers into the array\n",
    "a = []\n",
    "for x in range(1,21,2):\n",
    "    a.append(x)\n",
    "    print(a)\n",
    "    \n",
    "#yaaaayyy!!! it works :)\n",
    "\n",
    "#I could also do this \n",
    "a = list(range(1,21,2))\n",
    "print('\\n',a,'\\n')\n",
    "\n",
    "#how exactly does x work x has the same data type as what goes after 'in' hence we can do this\n",
    "\n",
    "for x in \"python\":\n",
    "    print('current letter',x)\n"
   ]
  },
  {
   "cell_type": "code",
   "execution_count": null,
   "metadata": {},
   "outputs": [],
   "source": [
    "#to repeat the code using for loop\n",
    "\n",
    "for x in range(5):\n",
    "    f()"
   ]
  },
  {
   "cell_type": "markdown",
   "metadata": {},
   "source": [
    "## Boolean logic in python"
   ]
  },
  {
   "cell_type": "code",
   "execution_count": null,
   "metadata": {},
   "outputs": [],
   "source": [
    "username = 'admin'\n",
    "password = \"admin123\"\n",
    "\n",
    "usd = input('enter your username')\n",
    "psd = input('enter your password')\n",
    "\n",
    "if username == usd and password == psd:\n",
    "    print('valid user')\n",
    "elif username == usd or password == psd:\n",
    "    print('invalid username or password')\n",
    "else: print('invalid user')"
   ]
  },
  {
   "cell_type": "markdown",
   "metadata": {},
   "source": [
    "## While loop"
   ]
  },
  {
   "cell_type": "code",
   "execution_count": null,
   "metadata": {},
   "outputs": [],
   "source": [
    "counter = 8\n",
    "while (counter < 10):\n",
    "    print (f())\n",
    "    counter += 1"
   ]
  },
  {
   "cell_type": "markdown",
   "metadata": {},
   "source": [
    "### coding challenge 1"
   ]
  },
  {
   "cell_type": "code",
   "execution_count": null,
   "metadata": {},
   "outputs": [],
   "source": [
    "f = ['dosa','roti', 'maggi','bajji','panipuri']\n",
    "print(f[2])\n",
    "f.append('sushi')\n",
    "print(f)\n",
    "f.insert(3,'tacos')\n",
    "print(f)"
   ]
  },
  {
   "cell_type": "markdown",
   "metadata": {},
   "source": [
    "### coding challenge 2"
   ]
  },
  {
   "cell_type": "code",
   "execution_count": null,
   "metadata": {},
   "outputs": [],
   "source": [
    "for x in range(5):\n",
    "    print('I am a programmer')"
   ]
  },
  {
   "cell_type": "code",
   "execution_count": null,
   "metadata": {},
   "outputs": [],
   "source": [
    "def square():\n",
    "    for x in range(1,10,1):\n",
    "        y = x*x\n",
    "        print(y)\n",
    "square()"
   ]
  },
  {
   "cell_type": "markdown",
   "metadata": {},
   "source": [
    "## Passing values to a function"
   ]
  },
  {
   "cell_type": "code",
   "execution_count": null,
   "metadata": {},
   "outputs": [],
   "source": [
    "def add(a,b):\n",
    "    c = a+b\n",
    "    print(c)\n",
    "    \n",
    "add(10,45)"
   ]
  },
  {
   "cell_type": "markdown",
   "metadata": {},
   "source": [
    "## Making a function return value"
   ]
  },
  {
   "cell_type": "code",
   "execution_count": null,
   "metadata": {},
   "outputs": [],
   "source": [
    "def minus(a,b):\n",
    "    c = a-b\n",
    "    return(c)\n",
    "s = minus(30,90)\n",
    "print(s)"
   ]
  },
  {
   "cell_type": "markdown",
   "metadata": {},
   "source": [
    "## Passing function as an argument to another function"
   ]
  },
  {
   "cell_type": "code",
   "execution_count": null,
   "metadata": {},
   "outputs": [],
   "source": [
    "add(minus(15,80),50)"
   ]
  },
  {
   "cell_type": "markdown",
   "metadata": {},
   "source": [
    "## modules in python\n",
    "Module is a set of code written by someone else or yourself\n",
    "there are also module in built in python "
   ]
  },
  {
   "cell_type": "code",
   "execution_count": null,
   "metadata": {},
   "outputs": [],
   "source": [
    "#using random module, to make a virtual dice\n",
    "\n",
    "import random #syntax to use a module\n",
    "\n",
    "for x in range(5):\n",
    "    dice_result = random.randint(1,100)\n",
    "    print(dice_result)\n",
    "\n",
    "\n"
   ]
  },
  {
   "cell_type": "markdown",
   "metadata": {},
   "source": [
    "## coding challenge 3"
   ]
  },
  {
   "cell_type": "code",
   "execution_count": null,
   "metadata": {},
   "outputs": [],
   "source": [
    "#to create a BMI index calculator \n",
    "# formula: BMI =( weight in kg / height in m)^2\n",
    "\n",
    "def bmi_cal(w,h):\n",
    "    bmi = (w/h)**2\n",
    "    print('your Body mass index is',bmi)\n",
    "\n",
    "bmi_cal(int(input('Your weight')),float(input('Your height')))"
   ]
  },
  {
   "cell_type": "markdown",
   "metadata": {},
   "source": [
    "## Exception handling in Python"
   ]
  },
  {
   "cell_type": "markdown",
   "metadata": {},
   "source": [
    "- Syntax error when the grammar is wrong\n",
    "- logical error: Quite difficult to detect \n",
    "\n",
    "#### Exceptions\n",
    "\n",
    "###### Types of exceptions:\n",
    "\n",
    "- dividing by 0 error\n",
    "\n",
    "#### Exception handling \n",
    "If the exceptions aren't handled, if you have built a website and user puts in a value that triggers exception, then your website or application crashes.\n",
    "\n",
    "- To avoid exception, use try: and type in the code that is prone to exception\n",
    "- like below\n",
    "\n"
   ]
  },
  {
   "cell_type": "code",
   "execution_count": null,
   "metadata": {},
   "outputs": [],
   "source": [
    "try:\n",
    "    a = 20\n",
    "    b = 10\n",
    "    print(a/b)\n",
    "except ZeroDivisionError:\n",
    "    print('There is a division by 0')\n",
    "\n",
    "print('we have handled the exception')"
   ]
  },
  {
   "cell_type": "markdown",
   "metadata": {},
   "source": [
    "### File handling\n",
    "\n",
    "- allows you to save the data modfified by the code\n",
    "- allows you to save the data users input\n",
    "\n",
    "- first you need to open the file"
   ]
  },
  {
   "cell_type": "code",
   "execution_count": null,
   "metadata": {},
   "outputs": [],
   "source": [
    "#sytax to open a file. use parameter the name of the file and what mode of the file whether you wanna read, write \n",
    "file = open(\"demo.txt\",'w')\n",
    "\n",
    "# close the file once you are done\n",
    "file.close()\n"
   ]
  },
  {
   "cell_type": "code",
   "execution_count": null,
   "metadata": {},
   "outputs": [],
   "source": [
    "#reading the file\n",
    "file = open('demo.txt', 'r')\n",
    "content = file.readlines()\n",
    "print(content)\n",
    "file.close()"
   ]
  },
  {
   "cell_type": "code",
   "execution_count": null,
   "metadata": {},
   "outputs": [],
   "source": [
    "#adding data to the file\n",
    "file = open('demo.txt', 'w')\n",
    "file.write(\"ghost writing, hehhe tehhee\")\n",
    "file.close()\n",
    "\n",
    "#but my previous data is deleted, HELP!! \n",
    "#Use append ;)"
   ]
  },
  {
   "cell_type": "code",
   "execution_count": null,
   "metadata": {},
   "outputs": [],
   "source": [
    "#adding data without deleting the previous data\n",
    "file = open('demo.txt', 'a')\n",
    "file.write(\"\\n ghost writing, hehhe tehhee\")\n",
    "file.close()\n"
   ]
  },
  {
   "cell_type": "markdown",
   "metadata": {},
   "source": [
    "### CODING CHALLENGE 4"
   ]
  },
  {
   "cell_type": "code",
   "execution_count": null,
   "metadata": {},
   "outputs": [],
   "source": [
    "'''Write a function which would divide two numbers, \n",
    "design the function in a manner that it handles the divide by zero exception.'''\n",
    "def f2():\n",
    "    try: \n",
    "        a = 20\n",
    "        b = 0\n",
    "        print(a/b)\n",
    "    except ZeroDivisionError:\n",
    "        print('There is a division by 0')\n",
    "        \n",
    "f2()"
   ]
  },
  {
   "cell_type": "markdown",
   "metadata": {},
   "source": [
    "### Coding challenge 5"
   ]
  },
  {
   "cell_type": "code",
   "execution_count": null,
   "metadata": {},
   "outputs": [],
   "source": [
    "file = open('demo.txt','w')\n",
    "file.write('hi hello heheheyaah')\n",
    "file.close()\n",
    "\n",
    "file = open('demo.txt','r')\n",
    "content = file.read()\n",
    "print(content)\n",
    "file.close()\n",
    "\n",
    "file = open('demo.txt','a')\n",
    "file.write(\"\\n bye bye\")\n",
    "file.close()\n",
    "\n",
    "file = open('demo.txt','r')\n",
    "content = file.read()\n",
    "print(content)\n",
    "file.close()\n"
   ]
  },
  {
   "cell_type": "markdown",
   "metadata": {},
   "source": [
    "### Dictionaries"
   ]
  },
  {
   "cell_type": "code",
   "execution_count": null,
   "metadata": {},
   "outputs": [],
   "source": [
    "#having data as key and values. Just like how dictionary has a word and meaning. Dictionaries have pair and values.\n",
    "#syntax for dictinary \n",
    "people = {'john': 18,'Ravi': 32,'john': 45}\n",
    "print(people['john'])\n",
    "\n",
    "#it returns the last value for the key\n"
   ]
  },
  {
   "cell_type": "markdown",
   "metadata": {},
   "source": [
    "##### dictionary functions"
   ]
  },
  {
   "cell_type": "code",
   "execution_count": null,
   "metadata": {},
   "outputs": [],
   "source": [
    "numbers = {\n",
    "    1 : 'one',\n",
    "    2 : 'two',\n",
    "    3 : 'three',\n",
    "    4 : 'four'\n",
    "}\n",
    "#to check if a value is present in the dict\n",
    "print(5 in numbers)\n",
    "#to get a value from dict\n",
    "print(numbers.get(5,'Nope'))"
   ]
  },
  {
   "cell_type": "markdown",
   "metadata": {},
   "source": [
    "### Tuples\n",
    "- they are different from list. The value of tuples can't be changed \n",
    "- syntax for tuple is ()"
   ]
  },
  {
   "cell_type": "code",
   "execution_count": null,
   "metadata": {},
   "outputs": [],
   "source": [
    "fruits = ('apple','orange','grapes','mango')\n",
    "print(fruits[2])\n",
    "#fruits[0] = pineapple this doesnt work because you cant mend the values outside\n",
    "#you can choose not to use () as well \n"
   ]
  },
  {
   "cell_type": "markdown",
   "metadata": {},
   "source": [
    "### List slicing"
   ]
  },
  {
   "cell_type": "code",
   "execution_count": null,
   "metadata": {},
   "outputs": [],
   "source": [
    "numbers = [0,100,200,300,400,500,600]\n",
    "print(numbers[2:5]) #here you get values from the asked indices\n",
    "print(numbers[2:])\n",
    "print(numbers[-2])\n",
    "\n",
    "#to print the list in reverse\n",
    "numbers.reverse()\n",
    "print (numbers)"
   ]
  },
  {
   "cell_type": "markdown",
   "metadata": {},
   "source": [
    "### List comprehension\n",
    "- to create a list and give it rules \n",
    "- you want a list to contain a square of numbers"
   ]
  },
  {
   "cell_type": "code",
   "execution_count": null,
   "metadata": {},
   "outputs": [],
   "source": [
    "list = [x**2 for x in range(10) if x**2 % 2 == 0]\n",
    "print (list)"
   ]
  },
  {
   "cell_type": "markdown",
   "metadata": {},
   "source": [
    "### String formatting"
   ]
  },
  {
   "cell_type": "code",
   "execution_count": null,
   "metadata": {},
   "outputs": [],
   "source": [
    "numbers = [4,5,2015]\n",
    "str = \"Date: {0}/{1}/{2}\".format(numbers[0],numbers[1],numbers[2])\n",
    "print(str)\n",
    "\n",
    "#or you could also do this\n",
    "string = '{x}/{y}'.format(x=20,y=90)\n",
    "print(string)"
   ]
  },
  {
   "cell_type": "markdown",
   "metadata": {},
   "source": [
    "### String functions\n"
   ]
  },
  {
   "cell_type": "code",
   "execution_count": null,
   "metadata": {},
   "outputs": [],
   "source": [
    "print(';'.join(['apple','banana','mango']))"
   ]
  },
  {
   "cell_type": "code",
   "execution_count": null,
   "metadata": {},
   "outputs": [],
   "source": [
    "print('hello there'.replace('there','world'))"
   ]
  },
  {
   "cell_type": "code",
   "execution_count": null,
   "metadata": {},
   "outputs": [],
   "source": [
    "print('hello work'.endswith('work'))"
   ]
  },
  {
   "cell_type": "code",
   "execution_count": null,
   "metadata": {},
   "outputs": [],
   "source": [
    "str = \"hello\"\n",
    "str.capitalize()\n"
   ]
  },
  {
   "cell_type": "markdown",
   "metadata": {},
   "source": [
    "### Coding challenge 6"
   ]
  },
  {
   "cell_type": "code",
   "execution_count": null,
   "metadata": {},
   "outputs": [],
   "source": [
    "dict = {'bag':10,\"shoe\":40,\"bottle\": 34, \"pen\": 7,'pencil': 5}\n",
    "i = input('enter your product')\n",
    "print('price of', i, ':' , dict[i])"
   ]
  },
  {
   "cell_type": "code",
   "execution_count": null,
   "metadata": {},
   "outputs": [],
   "source": [
    "#solution\n",
    "dict = {'bag':10,\"shoe\":40,\"bottle\": 34, \"pen\": 7,'pencil': 5}\n",
    "i = input('enter your product')\n",
    "if i in dict:\n",
    "    print('price of', i, ':' , dict[i])\n",
    "else: print('product not found')"
   ]
  },
  {
   "cell_type": "markdown",
   "metadata": {},
   "source": [
    "### Coding challenge 7 \n",
    "- List out  all the odd numbers from 1 to 100 using lists in Python."
   ]
  },
  {
   "cell_type": "code",
   "execution_count": null,
   "metadata": {},
   "outputs": [],
   "source": [
    "list = [x for x in range(1,101) if x%2 != 0]\n",
    "print(list)"
   ]
  },
  {
   "cell_type": "markdown",
   "metadata": {},
   "source": [
    "## Functional Programming\n",
    "\n",
    "- writing code in a particular fashion\n"
   ]
  },
  {
   "cell_type": "code",
   "execution_count": null,
   "metadata": {},
   "outputs": [],
   "source": [
    "def add_ten(x):\n",
    "    return x+10\n",
    "def twice(func,arg):\n",
    "    return func(func(arg))\n",
    "\n",
    "print(twice(add_ten,30))\n",
    "\n",
    "## whats happening\n",
    "#function within a fucntion is called twice "
   ]
  },
  {
   "cell_type": "markdown",
   "metadata": {},
   "source": [
    "## Lambdas in Python\n",
    "- similar to function\n",
    "- you dont need to name your function\n",
    "- they dont have a return statement, because it always contains a statement which is automatically returned\n"
   ]
  },
  {
   "cell_type": "code",
   "execution_count": null,
   "metadata": {},
   "outputs": [],
   "source": [
    "#function \n",
    "def square(x):\n",
    "    return x**2\n",
    "print(square(4))"
   ]
  },
  {
   "cell_type": "code",
   "execution_count": null,
   "metadata": {},
   "outputs": [],
   "source": [
    "#lambdas\n",
    "result = (lambda x: x**2)(7)\n",
    "print (result)\n",
    "\n",
    "#does the same thing but faster and smaller code"
   ]
  },
  {
   "cell_type": "markdown",
   "metadata": {},
   "source": [
    "# Map in Python\n",
    "- map allows you to perform an operation on a list "
   ]
  },
  {
   "cell_type": "code",
   "execution_count": null,
   "metadata": {},
   "outputs": [],
   "source": [
    "def add(x):\n",
    "    return x+2\n",
    "newlist = [10,30,60,80]\n",
    "result = list(map(add,newlist))\n",
    "print(result)"
   ]
  },
  {
   "cell_type": "code",
   "execution_count": null,
   "metadata": {},
   "outputs": [],
   "source": [
    "def add(x):\n",
    "    return x+2\n",
    "newlist = [10,30,60,80]\n",
    "result = list(map(lambda x:x*2,newlist))\n",
    "print(result)"
   ]
  },
  {
   "cell_type": "markdown",
   "metadata": {},
   "source": [
    "## Filters in Python\n",
    "- used with lambdas \n",
    "- to filter out some numbers"
   ]
  },
  {
   "cell_type": "code",
   "execution_count": null,
   "metadata": {},
   "outputs": [],
   "source": [
    "newlist = [1,2,5,7,9,13,51,71,6]\n",
    "result = list(map(lambda x : x%2 == 0,newlist))\n",
    "print(result)\n",
    "result = list(filter(lambda x : x%2 == 0,newlist))\n",
    "print(result)\n",
    "\n",
    "#the difference between the map and filter"
   ]
  },
  {
   "cell_type": "markdown",
   "metadata": {},
   "source": [
    "### Generators in Python \n",
    "- type of iterables such as list and tuples\n",
    "- generating its own values\n",
    "- they dont allow indexing like lists\n",
    "- but uses for loop \n",
    "- can be created by fucntions or yeild statement"
   ]
  },
  {
   "cell_type": "code",
   "execution_count": null,
   "metadata": {},
   "outputs": [],
   "source": [
    "def function():\n",
    "    counter = 0\n",
    "    while counter < 5:\n",
    "        yield counter\n",
    "        counter += 1\n",
    "\n",
    "for x in function():\n",
    "    print(x)\n",
    "\n",
    "#what are these used for: to create your own list\n",
    "\n",
    "def even_numbers(x):\n",
    "    for i in range (x):\n",
    "        if i % 2 == 0:\n",
    "            yield i #yield generates the number\n",
    "            \n",
    "print (list(even_numbers(20)))\n",
    "range(0,20,2)\n",
    "        "
   ]
  },
  {
   "cell_type": "markdown",
   "metadata": {},
   "source": [
    "### Coding challenge 8 \n",
    "- Assume you want to build two functions for discounting products on a website.\n",
    "- Function number 1 is for student discount which discounts the current price to 10%.\n",
    "- Function number 2 is for additional discount for regular buyers which discounts an additional 5% on the current student discounted price.\n",
    "- Depending on the situation, we want to be able to apply both the discounts on the products.\n",
    "\n",
    "- Design the above two mentioned functions and apply them both simultaneously on the price.\n",
    "\n"
   ]
  },
  {
   "cell_type": "code",
   "execution_count": null,
   "metadata": {},
   "outputs": [],
   "source": [
    "def studis(price):\n",
    "    price = price - 0.1*price\n",
    "    return price\n",
    "def regdis(price):\n",
    "    price = price - 0.05*price\n",
    "    return price\n",
    "    \n",
    "\n",
    "\n",
    "price = int(input(\"whats your purchase amount?\"))\n",
    "customer = input('Are you a student? Please answer with: Yes or No')\n",
    "customer = customer.lower()\n",
    "if customer == 'yes':\n",
    "    price = studis(price)\n",
    "    price = regdis(price)\n",
    "    print('Your bill after discount',price)\n",
    "else: \n",
    "    price = regdis(price)\n",
    "    print('Your bill after discount',price)\n",
    "    \n",
    "\n"
   ]
  },
  {
   "cell_type": "markdown",
   "metadata": {},
   "source": [
    "### Coding challenge 9\n",
    "- Calculate the value of mathematical expression x*(x+5)^2 where x= 5 using lambda expression."
   ]
  },
  {
   "cell_type": "code",
   "execution_count": null,
   "metadata": {},
   "outputs": [],
   "source": [
    "\n",
    "print((lambda x: x*(x+5)**2) (5))  #lambda always goes with an argument after its statement"
   ]
  },
  {
   "cell_type": "markdown",
   "metadata": {},
   "source": [
    "### Coding challenge 10\n",
    "- Consider a list in Python which includes prices of all the items in a store.\n",
    "- Build a function to discount the price of all the products by 10%.\n",
    "\n",
    "- Use map to apply the function to all the elements of the list so that all the product prices are discounted."
   ]
  },
  {
   "cell_type": "code",
   "execution_count": null,
   "metadata": {},
   "outputs": [],
   "source": [
    "newlist = [30,50,89,99,58,43]\n",
    "result = list(map(lambda x: x - x*0.1 , newlist))\n",
    "print(result)"
   ]
  }
 ],
 "metadata": {
  "kernelspec": {
   "display_name": "Python 3",
   "language": "python",
   "name": "python3"
  },
  "language_info": {
   "codemirror_mode": {
    "name": "ipython",
    "version": 3
   },
   "file_extension": ".py",
   "mimetype": "text/x-python",
   "name": "python",
   "nbconvert_exporter": "python",
   "pygments_lexer": "ipython3",
   "version": "3.8.3"
  }
 },
 "nbformat": 4,
 "nbformat_minor": 4
}
